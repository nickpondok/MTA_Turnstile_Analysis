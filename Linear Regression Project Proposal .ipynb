{
 "cells": [
  {
   "cell_type": "markdown",
   "metadata": {},
   "source": [
    "# Predicting NBA Salaries with Linear Regression "
   ]
  },
  {
   "cell_type": "markdown",
   "metadata": {},
   "source": [
    "### Question/Need:\n",
    "#### What is the framing question of your analysis, or the purpose of the model/system you plan to build?\n",
    "\n",
    "The purpose of this model is to predict a NBA player's salary based on performance statistics and tenure. We are working with a sports agency to help train agents on which factors they should be focusing on most when negotiating new contracts. \n",
    "    \n",
    "#### Who benefits from exploring this question or building this model/system?\n",
    "The people who benefit from exploring this question are current players in the NBA, NBA prospects and sports agency when negotiating new contracts. \n"
   ]
  },
  {
   "cell_type": "markdown",
   "metadata": {},
   "source": [
    "### Data Description:\n",
    "\n",
    "#### What dataset(s) do you plan to use, and how will you obtain the data?\n",
    "The datasets I plan to use will include NBA performance statistics and salaries. We will be using data from the last 5 NBA seasons. The reasoning behind this being we want to provide our client with data from recent years since this is most reflective of the salary expectation in today's NBA.  The data will be gathered through webscraping from basketball-reference.com, through the team pages. Each team's team page contains salary and statics info for that year, so by gathering data for 5 years for each team there will be a total of 150 pages webscraped. \n",
    "\n",
    "\n",
    "#### What is an individual sample/unit of analysis in this project? What characteristics/features do you expect to work with?\n",
    "The features I plan to work with are the common statistics used in basketball: Minutes played, Points, Rebounds, Assists, Turnovers, 2pt%, 3pt%, FT%, Steals, Blocks. Since these statistics are commonly used when looking at a player's performance. This model will also try and take into account a players tenure given an assumption that veteran players have a higher minimum salary than newer players in the league.  \n",
    "\n",
    "\n",
    "#### If modeling, what will you predict as your target?\n",
    "The target of this model will be the salary of each player. I anticipate there will be a poistive correlation between mostly all of the stats and well as one with a players tenure. The one exception would be the turnover statistic which I anticipate would have a negative correlation since turnovers are undesirable and having a high number of turnovers would be considered a bad stat. "
   ]
  },
  {
   "cell_type": "markdown",
   "metadata": {},
   "source": [
    "### Tools:\n",
    "#### How do you intend to meet the tools requirement of the project?\n",
    "In order to webscrape from basketball-reference.com, I will utlize the Beautiful Soup and \n",
    "selenium to gather the necessary data. Once the data is in Python and cleaned, I will use vizualization tools such as matplotlib and seaborn to plot my findings and to test the relationship between my features and target. \n",
    "\n",
    "#### Are you planning in advance to need or use additional tools beyond those required?\n",
    "Not at this time"
   ]
  },
  {
   "cell_type": "markdown",
   "metadata": {},
   "source": [
    "### MVP Goal:\n",
    "\n",
    "#### What would a minimum viable product (MVP) look like for this project?\n",
    "A MVP for this project would consist of a basic linear module of at least one feature to see if there is a strong relationship between said feature and my target. The feature I plan to use would be average points per game. "
   ]
  },
  {
   "cell_type": "code",
   "execution_count": null,
   "metadata": {},
   "outputs": [],
   "source": []
  }
 ],
 "metadata": {
  "kernelspec": {
   "display_name": "Python 3",
   "language": "python",
   "name": "python3"
  },
  "language_info": {
   "codemirror_mode": {
    "name": "ipython",
    "version": 3
   },
   "file_extension": ".py",
   "mimetype": "text/x-python",
   "name": "python",
   "nbconvert_exporter": "python",
   "pygments_lexer": "ipython3",
   "version": "3.8.5"
  }
 },
 "nbformat": 4,
 "nbformat_minor": 4
}
