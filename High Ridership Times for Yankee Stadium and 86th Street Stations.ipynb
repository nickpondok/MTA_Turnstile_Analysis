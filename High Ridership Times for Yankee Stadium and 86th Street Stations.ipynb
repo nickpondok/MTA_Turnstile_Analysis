{
 "cells": [
  {
   "cell_type": "markdown",
   "metadata": {},
   "source": [
    "### Abstract"
   ]
  },
  {
   "cell_type": "markdown",
   "metadata": {},
   "source": [
    "The goal of this project was to find the times of day that had the most ridership near the Yankee Stadium and 86th Street stations. For this project I worked with data pulled from the MTA website for dates April 2019 - June 2019. The objective being to use this data to apply my knowledge of Panda DataFrames to create visualizations using matplotlib. Through these visualizations I was able to draw conclusions that helped answer our initial questions. \n"
   ]
  },
  {
   "cell_type": "markdown",
   "metadata": {},
   "source": [
    "### Design"
   ]
  },
  {
   "cell_type": "markdown",
   "metadata": {},
   "source": [
    "The design of the project consisted of gathering data from the MTA website and storing the data into a SQL database. I then imported that database into a Python engine in order to work with the data in python. Once the data was imported, I cleaned the data. At that point, each station was approached slightly differently. When it came to Yankee Stadium, I needed to find out which dates were game days and then take the average entries  and exits of those days grouped by time. Once I had that information I was able to plot using matplotlib. For 86th street stations, I started out by taking the average entries & exits grouped by day to find the busiest days. Once I was able to find that information I then take the average of those days grouped by time in order to get the specific times that were best.  "
   ]
  },
  {
   "cell_type": "markdown",
   "metadata": {},
   "source": [
    "### Data"
   ]
  },
  {
   "cell_type": "markdown",
   "metadata": {},
   "source": [
    "The data consisted of over 50,000 turnstile registers that each consisted of 11 columns. Some of the important values for each entry were the C/A, Unit, SCP, and Station as these indicated the specific turnstile that was registering the count. Additional the date and time provided important information regarding each register. Lastly the Entries and Exits were used to calculate the daily ridership. Only the date for Yankee Stadium and 86th Street station were used for this analysis.\n",
    "\n"
   ]
  },
  {
   "cell_type": "markdown",
   "metadata": {},
   "source": [
    "### Algorithms"
   ]
  },
  {
   "cell_type": "markdown",
   "metadata": {},
   "source": [
    "1. Function to determine whether or not the date was a gameday\n",
    "2. Function to determine whether the day was an 86th street station busy day \n",
    "3. Function clear data of duplicates and outliers "
   ]
  },
  {
   "cell_type": "markdown",
   "metadata": {},
   "source": [
    "### Tools"
   ]
  },
  {
   "cell_type": "markdown",
   "metadata": {},
   "source": [
    "Numpy and Pandas for data \n",
    "Matplotlib for plotting "
   ]
  },
  {
   "cell_type": "markdown",
   "metadata": {},
   "source": []
  }
 ],
 "metadata": {
  "kernelspec": {
   "display_name": "Python 3",
   "language": "python",
   "name": "python3"
  },
  "language_info": {
   "codemirror_mode": {
    "name": "ipython",
    "version": 3
   },
   "file_extension": ".py",
   "mimetype": "text/x-python",
   "name": "python",
   "nbconvert_exporter": "python",
   "pygments_lexer": "ipython3",
   "version": "3.8.5"
  }
 },
 "nbformat": 4,
 "nbformat_minor": 4
}
